{
 "cells": [
  {
   "cell_type": "markdown",
   "metadata": {},
   "source": [
    "Write a program that creates gramatically valid English sentences.\n",
    "Here, we consider a sentence to be gramatically correct when it follows the simple English grammar of the form: Article Adjective Noun Verb. That is, even the sentence A insect fly. is, for the moment, considered correct.\n",
    "Create additionally to the exercise above, a list of definite and indefinite articles and verbs from an online resource.\n",
    "https://www.espressoenglish.net/100-most-common-english-verbs/\n",
    "https://www.espressoenglish.net/100-common-nouns-in-english/\n",
    "https://www.espressoenglish.net/100-common-adjectives-in-english/"
   ]
  },
  {
   "cell_type": "code",
   "execution_count": 16,
   "metadata": {},
   "outputs": [
    {
     "ename": "SyntaxError",
     "evalue": "invalid syntax (<ipython-input-16-d4bba773d783>, line 11)",
     "output_type": "error",
     "traceback": [
      "\u001b[0;36m  File \u001b[0;32m\"<ipython-input-16-d4bba773d783>\"\u001b[0;36m, line \u001b[0;32m11\u001b[0m\n\u001b[0;31m    printlist = [adjectiv, noun, verb for adjectiv, noun, verb in adjectivs, nouns, verbs]\u001b[0m\n\u001b[0m                                        ^\u001b[0m\n\u001b[0;31mSyntaxError\u001b[0m\u001b[0;31m:\u001b[0m invalid syntax\n"
     ]
    }
   ],
   "source": [
    "verbs = [\"be\",\"have\",\"do\",\"say\",\"go\"]\n",
    "nouns = [\"time\", \"year\", \"people\", \"way\", \"day\"]\n",
    "adjectivs = [\"other\",\"new\",\"good\",\"high\",\"old\"]\n",
    "\n",
    "for verb in verbs:\n",
    "    for adjectiv in adjectivs:    \n",
    "        for noun in nouns:\n",
    "            print(adjectiv + \" \" + noun + \" \" + verb)\n",
    "    \n",
    "\n",
    "printlist = [adjectiv, noun, verb for adjectiv in adjectivs for noun in nouns, for verb in verbs]    "
   ]
  },
  {
   "cell_type": "code",
   "execution_count": null,
   "metadata": {},
   "outputs": [],
   "source": []
  }
 ],
 "metadata": {
  "kernelspec": {
   "display_name": "Python 3",
   "language": "python",
   "name": "python3"
  },
  "language_info": {
   "codemirror_mode": {
    "name": "ipython",
    "version": 3
   },
   "file_extension": ".py",
   "mimetype": "text/x-python",
   "name": "python",
   "nbconvert_exporter": "python",
   "pygments_lexer": "ipython3",
   "version": "3.7.6"
  }
 },
 "nbformat": 4,
 "nbformat_minor": 4
}
