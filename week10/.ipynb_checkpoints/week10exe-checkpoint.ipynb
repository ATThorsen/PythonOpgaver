{
 "cells": [
  {
   "cell_type": "markdown",
   "metadata": {},
   "source": [
    "# sem4python_Week44_Ex10\n",
    "\n",
    "1. With the information below create a dictionary of the below and find out what action would be the cheapest by using linear algebra for each person.\n",
    "\n",
    "**Needs to buy dogs for their pet shop**  \n",
    "\n",
    "|person|dog_labrador|dog_puddle|dog_rottweiler|dog_bulldog|traveling_expense|\n",
    "|--|--|--|--|--|--|\n",
    "|p1|6|5|3|1|1|\n",
    "|p2|3|6|2|2|1|\n",
    "|p3|3|4|3|1|1|\n",
    "|p4|15|4|3|8|0|\n",
    "\n",
    "**Prices in the different countries**  \n",
    "\n",
    "|Countries|Denmark|UK|China|USA|\n",
    "|--|--|--|--|--|\n",
    "|dog_labrador|2500|1700|700|1699|\n",
    "|dog_puddle|4500|3000|2000|1500|\n",
    "|dog_rottweiler|500|450|4500|890|\n",
    "|dog_bulldog|1600|1700|1200|1900|\n",
    "|traveling_expense|2600|2700|9000|5000|\n",
    "\n",
    "2. All of the owners suddenly found out that they need to buy 3 times as many rottweilers and 10 times as many for bulldogs than previous expected.\n",
    "\t1. Multiply so that there are 3 times as many rottweilers and 10 times as many bulldogs\n",
    "\t2. Again let's see what course of action is best for each person and how much it would cost now.\n",
    "\t3. What is the difference between the highest and the lowest price that each person could have choosen.\n",
    "\n",
    "3. Download below data\n",
    "\t1. GDP (current US$) - European Union: http://api.worldbank.org/v2/en/indicator/NY.GDP.MKTP.CD?downloadformat=csv\n",
    "\t2. EU prices for selected representative products: https://ec.europa.eu/info/sites/info/files/market-prices-fruit-products_en_6.csv\n",
    "\n",
    "4. From 3.1. Find the GDP from 1995-2019 for:\n",
    "\t1. Greece\n",
    "\t2. Spain\n",
    "\t3. France\n",
    "\t4. Italy\n",
    "\t5. Portugal\n",
    "\t6. ~~European Union~~\n",
    "\n",
    "5. From 3.2. Find the price of below items from 1995-2020 (2020-06) for the countries in assignment 4.\n",
    "\t1. Strawberries\n",
    "\t2. Nectarines\n",
    "\t3. Apples Braeburn\n",
    "\n",
    "6. With this data.\n",
    "\t1. Make a line plot of 4. and 5.\n",
    "\t2. Try to create a correlation between the GDP and the price of the 3 products.\n",
    "\n",
    "7. Using sklearn\n",
    "\t1. Predict the price of strawberries and the GDP in year 3020.\n",
    "\n",
    "Extra:\n",
    "8. With all of the data from exercise 4 and 5.\n",
    "\t1. Find out if there is a linear relationship between features and show the correlation."
   ]
  },
  {
   "cell_type": "code",
   "execution_count": 32,
   "metadata": {},
   "outputs": [
    {
     "name": "stdout",
     "output_type": "stream",
     "text": [
      "{'p1': {'dog_labrador': 6, 'dog_puddle': 5, 'dog_rottweiler': 3, 'dog_bulldog': 1, 'traveling_expense': 1}, 'p2': {'dog_labrador': 3, 'dog_puddle': 6, 'dog_rottweiler': 2, 'dog_bulldog': 2, 'traveling_expense': 1}, 'p3': {'dog_labrador': 3, 'dog_puddle': 4, 'dog_rottweiler': 3, 'dog_bulldog': 1, 'traveling_expense': 1}, 'p4': {'dog_labrador': 15, 'dog_puddle': 4, 'dog_rottweiler': 3, 'dog_bulldog': 8, 'traveling_expense': 0}}\n"
     ]
    }
   ],
   "source": [
    "# Above calculation done with numpy:\n",
    "\n",
    "import numpy as np\n",
    "import pandas as pd\n",
    "\n",
    "persones = {\n",
    "'p1':{'dog_labrador':6,'dog_puddle':5,'dog_rottweiler':3,'dog_bulldog':1, 'traveling_expense':1},\n",
    "'p2':{'dog_labrador':3,'dog_puddle':6,'dog_rottweiler':2,'dog_bulldog':2, 'traveling_expense':1},\n",
    "'p3':{'dog_labrador':3,'dog_puddle':4,'dog_rottweiler':3,'dog_bulldog':1, 'traveling_expense':1},\n",
    "'p4':{'dog_labrador':15,'dog_puddle':4,'dog_rottweiler':3,'dog_bulldog':8, 'traveling_expense':0}\n",
    "}\n",
    "\n",
    "countriesPrice = {\n",
    "'Denmark':{'dog_labrador':2500,'dog_puddle':4500,'dog_rottweiler':500,'dog_bulldog':1600, 'traveling_expense':2600},\n",
    "'UK':{'dog_labrador':1700,'dog_puddle':3000,'dog_rottweiler':450,'dog_bulldog':1700, 'traveling_expense':2700},\n",
    "'China':{'dog_labrador':700,'dog_puddle':2000,'dog_rottweiler':4500,'dog_bulldog':1200, 'traveling_expense':9000},\n",
    "'USA':{'dog_labrador':1699,'dog_puddle':1500,'dog_rottweiler':890,'dog_bulldog':1900, 'traveling_expense':5000}\n",
    "}\n",
    "\n",
    "s_df = pd.DataFrame(persones).T\n",
    "p_df = pd.DataFrame(countriesPrice)\n",
    "\n",
    "shoppersdot = s_df.dot(p_df)\n",
    "print(persones)\n",
    "#print(shoppersdot)\n",
    "\n",
    "\n",
    "q = [1,1,3,10,1]\n",
    "\n"
   ]
  },
  {
   "cell_type": "code",
   "execution_count": 35,
   "metadata": {},
   "outputs": [
    {
     "name": "stdout",
     "output_type": "stream",
     "text": [
      "New shopper list:\n",
      "\n",
      "     dog_labrador  dog_puddle  dog_rottweiler  dog_bulldog  traveling_expense\n",
      "p1             6           5               9           10                  1\n",
      "p2             3           6               6           20                  1\n",
      "p3             3           4               9           10                  1\n",
      "p4            15           4               9           80                  0\n",
      "    Denmark      UK   China     USA\n",
      "p1    60600   48950   75700   49704\n",
      "p2    72100   62500   74100   62437\n",
      "p3    48600   40850   71600   43107\n",
      "p4   188000  177550  155000  191495\n"
     ]
    }
   ],
   "source": [
    "import numpy as np\n",
    "\n",
    "multi_array = np.array([[1,1,3,10,1]])\n",
    "new_s_df = s_df*multi_array\n",
    "print(\"New shopper list:\\n\\n\",new_s_df)\n",
    "\n",
    "p_df = pd.DataFrame(countriesPrice)\n",
    "\n",
    "newShoppersdot = new_s_df.dot(p_df)\n",
    "print(newShoppersdot)"
   ]
  },
  {
   "cell_type": "code",
   "execution_count": null,
   "metadata": {},
   "outputs": [],
   "source": []
  }
 ],
 "metadata": {
  "kernelspec": {
   "display_name": "Python 3",
   "language": "python",
   "name": "python3"
  },
  "language_info": {
   "codemirror_mode": {
    "name": "ipython",
    "version": 3
   },
   "file_extension": ".py",
   "mimetype": "text/x-python",
   "name": "python",
   "nbconvert_exporter": "python",
   "pygments_lexer": "ipython3",
   "version": "3.7.6"
  }
 },
 "nbformat": 4,
 "nbformat_minor": 4
}
