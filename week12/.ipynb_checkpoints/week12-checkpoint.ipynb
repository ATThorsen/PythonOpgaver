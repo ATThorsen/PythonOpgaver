{
 "cells": [
  {
   "cell_type": "markdown",
   "metadata": {},
   "source": [
    "## Exercise with perceptron\n",
    "Find the optimal weights for the two [dimensional dataset](data/rodents.csv) to seperate mice from rats based on data about height and weight. This is a superviced dataset with labels that can be found in the data folder (in this repo)\n",
    "![](images/rodents.png)\n",
    "\n",
    "### Part one: general\n",
    "1. Look at the activation_function and plot the y-values for each x from -5,5 spaced with 0.5 \n",
    "2. Change the perceptron method from the notebook to use the [numpy.dot() method](https://docs.scipy.org/doc/numpy/reference/generated/numpy.dot.html) in line 12 instead of the lengthy sum() function\n",
    "\n",
    "### Part two: rodent data\n",
    "1. Make a new scatter plot with datapoints of weights vs heights. Choose different colors for rats and mice\n",
    "2. Manually find the optimal linear function to divide the 2 groups (y = aX+b). Plot it on the scatter plot\n",
    "3. What is the slope and intercept of the linear function?\n",
    "4. Now change the 'type' column to represent rats as 1 and mice as -1\n",
    "5. Clean up any rows with null data\n",
    "6. Use these weights herè [40,-190] to determine if the following 3 animals are mice or rats: \n",
    "```\n",
    "[[231.32446731816555,26.03382997978225],\n",
    "[17.906954059999567,6.846576762459397],\n",
    "[230.276522831171,24.077799766119398]]\n",
    "```\n",
    "7. Find the (approximately) optimal weights using the perceptron learning algorithm\n",
    "8. Plot the weightline\n",
    "9. Plot the division line"
   ]
  },
  {
   "cell_type": "code",
   "execution_count": 2,
   "metadata": {},
   "outputs": [
    {
     "name": "stdout",
     "output_type": "stream",
     "text": [
      "[-10.          -9.97997998  -9.95995996  -9.93993994  -9.91991992]\n"
     ]
    },
    {
     "data": {
      "text/plain": [
       "(-10.0, 9.0, -2.0, 2.0)"
      ]
     },
     "execution_count": 2,
     "metadata": {},
     "output_type": "execute_result"
    },
    {
     "data": {
      "image/png": "[encoded data removed]",
      "text/plain": [
       "<Figure size 432x288 with 1 Axes>"
      ]
     },
     "metadata": {
      "needs_background": "light"
     },
     "output_type": "display_data"
    }
   ],
   "source": [
    "import numpy as np\n",
    "import matplotlib\n",
    "import matplotlib.pyplot as plt\n",
    "\n",
    "def activation_function(x):\n",
    "    \"\"\"\n",
    "    Step function to respond with y = 1 or -1\n",
    "    Parameter:\n",
    "    x: An x (numeric) value that will have a corresponding y value of 1 or -1\n",
    "    \"\"\"\n",
    "    if x < 0:\n",
    "        return -5.5\n",
    "    else:\n",
    "        return \n",
    "    \n",
    "rnge = np.linspace(-10.0, 10.0, num=1000)\n",
    "print(rnge[0:5])\n",
    "values = [activation_function(i) for i in rnge]\n",
    "plt.plot(rnge, values)\n",
    "plt.axis([-10, 9, -2, 2])"
   ]
  }
 ],
 "metadata": {
  "kernelspec": {
   "display_name": "Python 3",
   "language": "python",
   "name": "python3"
  },
  "language_info": {
   "codemirror_mode": {
    "name": "ipython",
    "version": 3
   },
   "file_extension": ".py",
   "mimetype": "text/x-python",
   "name": "python",
   "nbconvert_exporter": "python",
   "pygments_lexer": "ipython3",
   "version": "3.7.6"
  }
 },
 "nbformat": 4,
 "nbformat_minor": 4
}
