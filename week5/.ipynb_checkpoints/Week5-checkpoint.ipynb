{
 "cells": [
  {
   "cell_type": "markdown",
   "metadata": {},
   "source": [
    "## Ex1 Use data from Danmarks Statistik - Databanken\n",
    "1. Go to https://www.dst.dk/da/Statistik/brug-statistikken/muligheder-i-statistikbanken/api#testkonsol\n",
    "2. Open 'Konsol' and click 'Start Konsol'\n",
    "3. In the console at pt 1: choose 'Retrieve tables', pt 2: choose get request and json format and pt 3: execute:\n",
    "  1. check the result\n",
    "  2. in the code below this same get request is used to get information about all available data tables in 'databanken'. \n",
    "4. Change pt. 1 in the console to 'Retrieve data', pt 2: 'get request' and Table id: 'FOLK1A', format: csv, delimiter: semicolon and click: 'Variable and value codes' and choose some sub categories (Hint: hover over the codes to see their meaning). Finally execute and see what data you get.\n",
    "5. With data aggregation and data visualization answer the following questions:\n",
    "  1. What is the change in pct of divorced danes from 2008 to 2020?\n",
    "  2. Which of the 5 biggest cities has the highest percentage of 'Never Married' in 2020?\n",
    "  3. Show a bar chart of changes in marrital status in Copenhagen from 2008 till now\n",
    "  4. Show 2 plots in same figure: 'Married' and 'Never Married' for all ages in DK in 2020 (Hint: x axis is age from 0-125, y axis is how many people in the 2 categories). Add lengend to show names on graphs\n",
    "  "
   ]
  },
  {
   "cell_type": "code",
   "execution_count": 1,
   "metadata": {},
   "outputs": [
    {
     "name": "stdout",
     "output_type": "stream",
     "text": [
      "Procent change in divorce from 2008 to 202028.412503730786426\n"
     ]
    }
   ],
   "source": [
    "import pandas as pd\n",
    "#5 A\n",
    "div2008 = pd.read_csv(\"https://api.statbank.dk/v1/data/FOLK1A/CSV?CIVILSTAND=F&Tid=2008K1&OMR%C3%85DE=000&K%C3%98N=TOT\", sep=\";\")\n",
    "div2008res = div2008.iloc[0,4]\n",
    "\n",
    "div2020 = pd.read_csv(\"https://api.statbank.dk/v1/data/FOLK1A/CSV?CIVILSTAND=F&Tid=2020K3&OMR%C3%85DE=000&K%C3%98N=TOT\", sep = \";\")\n",
    "div2020res = div2020.iloc[0,4]\n",
    "onePro = (div2008res/100)\n",
    "changeInDiv = (div2020res/onePro)\n",
    "res = changeInDiv-100\n",
    "print(\"Procent change in divorce from 2008 to 2020\" + str(res))"
   ]
  },
  {
   "cell_type": "code",
   "execution_count": 48,
   "metadata": {},
   "outputs": [
    {
     "name": "stdout",
     "output_type": "stream",
     "text": [
      "['København', 633035]\n"
     ]
    },
    {
     "ename": "TypeError",
     "evalue": "list indices must be integers or slices, not list",
     "output_type": "error",
     "traceback": [
      "\u001b[0;31m---------------------------------------------------------------------------\u001b[0m",
      "\u001b[0;31mTypeError\u001b[0m                                 Traceback (most recent call last)",
      "\u001b[0;32m<ipython-input-48-e8e203f6066a>\u001b[0m in \u001b[0;36m<module>\u001b[0;34m\u001b[0m\n\u001b[1;32m     17\u001b[0m \u001b[0;32mfor\u001b[0m \u001b[0mi\u001b[0m \u001b[0;32min\u001b[0m \u001b[0mfiveBig\u001b[0m\u001b[0;34m:\u001b[0m\u001b[0;34m\u001b[0m\u001b[0;34m\u001b[0m\u001b[0m\n\u001b[1;32m     18\u001b[0m     \u001b[0mprint\u001b[0m\u001b[0;34m(\u001b[0m\u001b[0mfiveBig\u001b[0m\u001b[0;34m[\u001b[0m\u001b[0;36m0\u001b[0m\u001b[0;34m]\u001b[0m\u001b[0;34m)\u001b[0m\u001b[0;34m\u001b[0m\u001b[0;34m\u001b[0m\u001b[0m\n\u001b[0;32m---> 19\u001b[0;31m     \u001b[0ma\u001b[0m \u001b[0;34m=\u001b[0m \u001b[0munmarried\u001b[0m\u001b[0;34m[\u001b[0m\u001b[0munmarried\u001b[0m\u001b[0;34m[\u001b[0m\u001b[0;34m:\u001b[0m\u001b[0;34m]\u001b[0m\u001b[0;34m[\u001b[0m\u001b[0;34m\"OMRÅDE\"\u001b[0m\u001b[0;34m]\u001b[0m \u001b[0;34m!=\u001b[0m \u001b[0;34m(\u001b[0m\u001b[0mfiveBig\u001b[0m\u001b[0;34m[\u001b[0m\u001b[0mi\u001b[0m\u001b[0;34m]\u001b[0m\u001b[0;34m)\u001b[0m\u001b[0;34m]\u001b[0m\u001b[0;34m\u001b[0m\u001b[0;34m\u001b[0m\u001b[0m\n\u001b[0m\u001b[1;32m     20\u001b[0m     \u001b[0;31m#full_amount = int(five_largest[(five_largest[:]['OMRÅDE'] == i)]['INDHOLD'])\u001b[0m\u001b[0;34m\u001b[0m\u001b[0;34m\u001b[0m\u001b[0;34m\u001b[0m\u001b[0m\n\u001b[1;32m     21\u001b[0m \u001b[0;34m\u001b[0m\u001b[0m\n",
      "\u001b[0;31mTypeError\u001b[0m: list indices must be integers or slices, not list"
     ]
    }
   ],
   "source": [
    "#5 B\n",
    "\n",
    "BigData = pd.read_csv(\"https://api.statbank.dk/v1/data/FOLK1A/CSV?CIVILSTAND=TOT&Tid=2020K3&K%C3%98N=TOT&OMR%C3%85DE=*\", sep=\";\")\n",
    "sortList = BigData.sort_values(by=[\"INDHOLD\"], ascending=False)\n",
    "nList = sortList[sortList[:][\"OMRÅDE\"] != (\"Hele landet\")]\n",
    "Cities = nList[nList.OMRÅDE.str.contains(\"Region\")==False]\n",
    "\n",
    "\n",
    "\n",
    "fiveBig = []\n",
    "for i in range(5):\n",
    "    fiveBig.append([Cities.iloc[i,3], Cities.iloc[i,4]])\n",
    "\n",
    "    \n",
    "unmarried = pd.a = unmarried[unmarried[:][\"OMRÅDE\"] != (fiveBig[i])]read_csv(\"https://api.statbank.dk/v1/data/FOLK1A/CSV?CIVILSTAND=U&Tid=2020K3&K%C3%98N=TOT&OMR%C3%85DE=*\", sep=\";\")\n",
    "a = unmarried[unmarried[:][\"OMRÅDE\"] != (fiveBig[0])]\n",
    "#for i in fiveBig:\n",
    " #   print(fiveBig[0])\n",
    "  #  a = unmarried[unmarried[:][\"OMRÅDE\"] != (fiveBig[i])]\n",
    "    #full_amount = int(five_largest[(five_largest[:]['OMRÅDE'] == i)]['INDHOLD'])\n",
    "    "
   ]
  },
  {
   "cell_type": "code",
   "execution_count": null,
   "metadata": {},
   "outputs": [],
   "source": []
  }
 ],
 "metadata": {
  "kernelspec": {
   "display_name": "Python 3",
   "language": "python",
   "name": "python3"
  },
  "language_info": {
   "codemirror_mode": {
    "name": "ipython",
    "version": 3
   },
   "file_extension": ".py",
   "mimetype": "text/x-python",
   "name": "python",
   "nbconvert_exporter": "python",
   "pygments_lexer": "ipython3",
   "version": "3.7.6"
  }
 },
 "nbformat": 4,
 "nbformat_minor": 4
}
