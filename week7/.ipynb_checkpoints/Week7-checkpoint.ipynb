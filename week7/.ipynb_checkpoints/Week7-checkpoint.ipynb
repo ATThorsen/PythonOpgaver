{
 "cells": [
  {
   "cell_type": "code",
   "execution_count": 47,
   "metadata": {},
   "outputs": [
    {
     "name": "stdout",
     "output_type": "stream",
     "text": [
      "Number of Jobs 57 job fundet\n",
      "\n",
      "[{'Storkøbenhavn': '26'}, {'Nordsjælland': '3'}, {'RegionSjælland': '2'}, {'Fyn': '6'}, {'RegionNordjylland': '7'}, {'RegionMidtjylland': '12'}, {'Sydjylland': '5'}, {'Bornholm': '0'}, {'Skåne': '0'}, {'Grønland': '0'}, {'Færøerne': '0'}, {'Udlandet': '1'}, {'Danmark': '57'}]\n"
     ]
    }
   ],
   "source": [
    "import bs4\n",
    "import requests\n",
    "import re\n",
    "import regex\n",
    "html = requests.get('https://www.jobindex.dk/jobsoegning?q=datamatiker')\n",
    "\n",
    "text = html.text\n",
    "soup = bs4.BeautifulSoup(text, 'html.parser')\n",
    "#print(soup)\n",
    "\n",
    "new_content = soup.find_all('span', {'class' : 'd-md-none'})\n",
    "\n",
    "print(\"Number of Jobs \" + new_content[0].get_text() + \"\\n\")\n",
    "\n",
    "areas = []\n",
    "div_areas = soup.findAll(\"div\", {\"id\": \"areas\"})\n",
    "\n",
    "for area in div_areas:\n",
    "    cities = area.findAll(\"a\", {\"class\" : \"area_label\" })\n",
    "    \n",
    "    for city in cities:\n",
    "        stripped_city = city.getText().strip()\n",
    "        _city = regex.findall(r'[A-Za-zæøå]+|\\d+', str(stripped_city), re.UNICODE)\n",
    "        \n",
    "        if len(_city) == 2:\n",
    "            _area = {\n",
    "            _city[0]: _city[1]\n",
    "        }\n",
    "        else:\n",
    "            _area = {\n",
    "            _city[0] + _city[1] : _city[2] \n",
    "        }\n",
    "        areas.append(_area)\n",
    "     \n",
    "    \n",
    "print(areas)"
   ]
  },
  {
   "cell_type": "code",
   "execution_count": 49,
   "metadata": {},
   "outputs": [],
   "source": [
    "\n",
    "import bs4\n",
    "import requests\n",
    "import re\n",
    "import regex\n",
    "import pandas as pd\n",
    "import matplotlib.pyplot as plt\n",
    "\n",
    "def get_region_info(url):\n",
    "\n",
    "    html = requests.get(url)\n",
    "    txt = html.text\n",
    "    soup = bs4.BeautifulSoup(txt, 'html.parser')\n",
    "\n",
    "    areas = {}\n",
    "    div_areas = soup.findAll(\"div\", {\"id\": \"areas\"})\n",
    "\n",
    "    for area in div_areas:\n",
    "        cities = area.findAll(\"a\", {\"class\" : \"area_label\" })\n",
    "    \n",
    "        for city in cities:\n",
    "            stripped_city = city.getText().strip()\n",
    "            _city = regex.findall(r'[A-Za-zæøå]+|\\d+', str(stripped_city), re.UNICODE)\n",
    "        \n",
    "            if len(_city) == 2:\n",
    "                _area = {\n",
    "                _city[0]: int(_city[1])\n",
    "            }\n",
    "            else:\n",
    "                _area = {\n",
    "                _city[0] + _city[1] : int(_city[2]) \n",
    "            }\n",
    "            areas.update(_area)\n",
    "            \n",
    "    return areas\n",
    "     \n",
    "\n",
    "python_data = get_region_info('https://www.jobindex.dk/jobsoegning?q=Python')\n",
    "js_data = get_region_info('https://www.jobindex.dk/jobsoegning?q=JavaScript')\n",
    "java_data = get_region_info('https://www.jobindex.dk/jobsoegning?q=Java')"
   ]
  },
  {
   "cell_type": "code",
   "execution_count": 46,
   "metadata": {},
   "outputs": [
    {
     "ename": "TypeError",
     "evalue": "'<' not supported between instances of 'dict_values' and 'dict_values'",
     "output_type": "error",
     "traceback": [
      "\u001b[0;31m---------------------------------------------------------------------------\u001b[0m",
      "\u001b[0;31mTypeError\u001b[0m                                 Traceback (most recent call last)",
      "\u001b[0;32m<ipython-input-46-a3905f0fe236>\u001b[0m in \u001b[0;36m<module>\u001b[0;34m\u001b[0m\n\u001b[1;32m      1\u001b[0m \u001b[0md_python\u001b[0m \u001b[0;34m=\u001b[0m \u001b[0;34m{\u001b[0m\u001b[0;34m'Region'\u001b[0m \u001b[0;34m:\u001b[0m \u001b[0mpython_data\u001b[0m\u001b[0;34m.\u001b[0m\u001b[0mkeys\u001b[0m\u001b[0;34m(\u001b[0m\u001b[0;34m)\u001b[0m\u001b[0;34m,\u001b[0m \u001b[0;34m'Number of Jobs'\u001b[0m \u001b[0;34m:\u001b[0m \u001b[0mpython_data\u001b[0m\u001b[0;34m.\u001b[0m\u001b[0mvalues\u001b[0m\u001b[0;34m(\u001b[0m\u001b[0;34m)\u001b[0m\u001b[0;34m}\u001b[0m\u001b[0;34m\u001b[0m\u001b[0;34m\u001b[0m\u001b[0m\n\u001b[1;32m      2\u001b[0m \u001b[0;34m\u001b[0m\u001b[0m\n\u001b[0;32m----> 3\u001b[0;31m \u001b[0mpython_df\u001b[0m \u001b[0;34m=\u001b[0m \u001b[0mpd\u001b[0m\u001b[0;34m.\u001b[0m\u001b[0mDataFrame\u001b[0m\u001b[0;34m(\u001b[0m\u001b[0md_python\u001b[0m\u001b[0;34m)\u001b[0m\u001b[0;34m.\u001b[0m\u001b[0msort_values\u001b[0m\u001b[0;34m(\u001b[0m\u001b[0;34m'Number of Jobs'\u001b[0m\u001b[0;34m,\u001b[0m \u001b[0mascending\u001b[0m\u001b[0;34m=\u001b[0m\u001b[0;32mFalse\u001b[0m\u001b[0;34m)\u001b[0m\u001b[0;34m\u001b[0m\u001b[0;34m\u001b[0m\u001b[0m\n\u001b[0m\u001b[1;32m      4\u001b[0m \u001b[0;34m\u001b[0m\u001b[0m\n\u001b[1;32m      5\u001b[0m \u001b[0mdisplay\u001b[0m\u001b[0;34m(\u001b[0m\u001b[0mpython_df\u001b[0m\u001b[0;34m)\u001b[0m\u001b[0;34m\u001b[0m\u001b[0;34m\u001b[0m\u001b[0m\n",
      "\u001b[0;32m/opt/conda/lib/python3.7/site-packages/pandas/core/frame.py\u001b[0m in \u001b[0;36msort_values\u001b[0;34m(self, by, axis, ascending, inplace, kind, na_position, ignore_index)\u001b[0m\n\u001b[1;32m   4931\u001b[0m \u001b[0;34m\u001b[0m\u001b[0m\n\u001b[1;32m   4932\u001b[0m             indexer = nargsort(\n\u001b[0;32m-> 4933\u001b[0;31m                 \u001b[0mk\u001b[0m\u001b[0;34m,\u001b[0m \u001b[0mkind\u001b[0m\u001b[0;34m=\u001b[0m\u001b[0mkind\u001b[0m\u001b[0;34m,\u001b[0m \u001b[0mascending\u001b[0m\u001b[0;34m=\u001b[0m\u001b[0mascending\u001b[0m\u001b[0;34m,\u001b[0m \u001b[0mna_position\u001b[0m\u001b[0;34m=\u001b[0m\u001b[0mna_position\u001b[0m\u001b[0;34m\u001b[0m\u001b[0;34m\u001b[0m\u001b[0m\n\u001b[0m\u001b[1;32m   4934\u001b[0m             )\n\u001b[1;32m   4935\u001b[0m \u001b[0;34m\u001b[0m\u001b[0m\n",
      "\u001b[0;32m/opt/conda/lib/python3.7/site-packages/pandas/core/sorting.py\u001b[0m in \u001b[0;36mnargsort\u001b[0;34m(items, kind, ascending, na_position)\u001b[0m\n\u001b[1;32m    272\u001b[0m         \u001b[0mnon_nans\u001b[0m \u001b[0;34m=\u001b[0m \u001b[0mnon_nans\u001b[0m\u001b[0;34m[\u001b[0m\u001b[0;34m:\u001b[0m\u001b[0;34m:\u001b[0m\u001b[0;34m-\u001b[0m\u001b[0;36m1\u001b[0m\u001b[0;34m]\u001b[0m\u001b[0;34m\u001b[0m\u001b[0;34m\u001b[0m\u001b[0m\n\u001b[1;32m    273\u001b[0m         \u001b[0mnon_nan_idx\u001b[0m \u001b[0;34m=\u001b[0m \u001b[0mnon_nan_idx\u001b[0m\u001b[0;34m[\u001b[0m\u001b[0;34m:\u001b[0m\u001b[0;34m:\u001b[0m\u001b[0;34m-\u001b[0m\u001b[0;36m1\u001b[0m\u001b[0;34m]\u001b[0m\u001b[0;34m\u001b[0m\u001b[0;34m\u001b[0m\u001b[0m\n\u001b[0;32m--> 274\u001b[0;31m     \u001b[0mindexer\u001b[0m \u001b[0;34m=\u001b[0m \u001b[0mnon_nan_idx\u001b[0m\u001b[0;34m[\u001b[0m\u001b[0mnon_nans\u001b[0m\u001b[0;34m.\u001b[0m\u001b[0margsort\u001b[0m\u001b[0;34m(\u001b[0m\u001b[0mkind\u001b[0m\u001b[0;34m=\u001b[0m\u001b[0mkind\u001b[0m\u001b[0;34m)\u001b[0m\u001b[0;34m]\u001b[0m\u001b[0;34m\u001b[0m\u001b[0;34m\u001b[0m\u001b[0m\n\u001b[0m\u001b[1;32m    275\u001b[0m     \u001b[0;32mif\u001b[0m \u001b[0;32mnot\u001b[0m \u001b[0mascending\u001b[0m\u001b[0;34m:\u001b[0m\u001b[0;34m\u001b[0m\u001b[0;34m\u001b[0m\u001b[0m\n\u001b[1;32m    276\u001b[0m         \u001b[0mindexer\u001b[0m \u001b[0;34m=\u001b[0m \u001b[0mindexer\u001b[0m\u001b[0;34m[\u001b[0m\u001b[0;34m:\u001b[0m\u001b[0;34m:\u001b[0m\u001b[0;34m-\u001b[0m\u001b[0;36m1\u001b[0m\u001b[0;34m]\u001b[0m\u001b[0;34m\u001b[0m\u001b[0;34m\u001b[0m\u001b[0m\n",
      "\u001b[0;31mTypeError\u001b[0m: '<' not supported between instances of 'dict_values' and 'dict_values'"
     ]
    }
   ],
   "source": []
  }
 ],
 "metadata": {
  "kernelspec": {
   "display_name": "Python 3",
   "language": "python",
   "name": "python3"
  },
  "language_info": {
   "codemirror_mode": {
    "name": "ipython",
    "version": 3
   },
   "file_extension": ".py",
   "mimetype": "text/x-python",
   "name": "python",
   "nbconvert_exporter": "python",
   "pygments_lexer": "ipython3",
   "version": "3.7.6"
  }
 },
 "nbformat": 4,
 "nbformat_minor": 4
}
