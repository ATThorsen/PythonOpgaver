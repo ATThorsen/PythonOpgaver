{
 "cells": [
  {
   "cell_type": "code",
   "execution_count": 47,
   "metadata": {},
   "outputs": [
    {
     "name": "stdout",
     "output_type": "stream",
     "text": [
      "Number of Jobs 57 job fundet\n",
      "\n",
      "[{'Storkøbenhavn': '26'}, {'Nordsjælland': '3'}, {'RegionSjælland': '2'}, {'Fyn': '6'}, {'RegionNordjylland': '7'}, {'RegionMidtjylland': '12'}, {'Sydjylland': '5'}, {'Bornholm': '0'}, {'Skåne': '0'}, {'Grønland': '0'}, {'Færøerne': '0'}, {'Udlandet': '1'}, {'Danmark': '57'}]\n"
     ]
    }
   ],
   "source": [
    "import bs4\n",
    "import requests\n",
    "import re\n",
    "import regex\n",
    "html = requests.get('https://www.jobindex.dk/jobsoegning?q=datamatiker')\n",
    "\n",
    "text = html.text\n",
    "soup = bs4.BeautifulSoup(text, 'html.parser')\n",
    "#print(soup)\n",
    "\n",
    "new_content = soup.find_all('span', {'class' : 'd-md-none'})\n",
    "\n",
    "print(\"Number of Jobs \" + new_content[0].get_text() + \"\\n\")\n",
    "\n",
    "areas = []\n",
    "\n",
    "for area in div_areas:\n",
    "    cities = area.findAll(\"a\", {\"class\" : \"area_label\" })\n",
    "    \n",
    "    for city in cities:\n",
    "        stripped_city = city.getText().strip()\n",
    "        _city = regex.findall(r'[A-Za-zæøå]+|\\d+', str(stripped_city), re.UNICODE)\n",
    "        \n",
    "        if len(_city) == 2:\n",
    "            _area = {\n",
    "            _city[0]: _city[1]\n",
    "        }\n",
    "        else:\n",
    "            _area = {\n",
    "            _city[0] + _city[1] : _city[2] \n",
    "        }\n",
    "        areas.append(_area)\n",
    "     \n",
    "    \n",
    "print(areas)"
   ]
  },
  {
   "cell_type": "code",
   "execution_count": 1,
   "metadata": {},
   "outputs": [
    {
     "name": "stdout",
     "output_type": "stream",
     "text": [
      "Number of Jobs 196 job fundet\n",
      "\n",
      "[{'Storkøbenhavn': '122'}, {'Nordsjælland': '27'}, {'RegionSjælland': '3'}, {'Fyn': '12'}, {'RegionNordjylland': '8'}, {'RegionMidtjylland': '33'}, {'Sydjylland': '11'}, {'Bornholm': '0'}, {'Skåne': '3'}, {'Grønland': '0'}, {'Færøerne': '0'}, {'Udlandet': '5'}, {'Danmark': '190'}]\n",
      "Number of Jobs 143 job fundet\n",
      "\n",
      "[{'Storkøbenhavn': '86'}, {'Nordsjælland': '8'}, {'RegionSjælland': '1'}, {'Fyn': '9'}, {'RegionNordjylland': '12'}, {'RegionMidtjylland': '18'}, {'Sydjylland': '13'}, {'Bornholm': '0'}, {'Skåne': '136'}, {'Grønland': '1'}, {'Færøerne': '0'}, {'Udlandet': '3'}, {'Danmark': '140'}]\n",
      "Number of Jobs 120 job fundet\n",
      "\n",
      "[{'Storkøbenhavn': '72'}, {'Nordsjælland': '11'}, {'RegionSjælland': '5'}, {'Fyn': '4'}, {'RegionNordjylland': '6'}, {'RegionMidtjylland': '19'}, {'Sydjylland': '8'}, {'Bornholm': '0'}, {'Skåne': '2'}, {'Grønland': '0'}, {'Færøerne': '0'}, {'Udlandet': '3'}, {'Danmark': '116'}]\n"
     ]
    }
   ],
   "source": [
    "\n",
    "import bs4\n",
    "import requests\n",
    "import re\n",
    "import regex\n",
    "import pandas as pd\n",
    "import matplotlib.pyplot as plt\n",
    "\n",
    "def get_region_info(url):\n",
    "\n",
    "    html = requests.get(url)\n",
    "\n",
    "    text = html.text\n",
    "    soup = bs4.BeautifulSoup(text, 'html.parser')\n",
    "    #print(soup)\n",
    "\n",
    "    new_content = soup.find_all('span', {'class' : 'd-md-none'})\n",
    "\n",
    "    print(\"Number of Jobs \" + new_content[0].get_text() + \"\\n\")\n",
    "\n",
    "    areas = []\n",
    "    div_areas = soup.findAll(\"div\", {\"id\": \"areas\"})\n",
    "\n",
    "    for area in div_areas:\n",
    "        cities = area.findAll(\"a\", {\"class\" : \"area_label\" })\n",
    "\n",
    "        for city in cities:\n",
    "            stripped_city = city.getText().strip()\n",
    "            _city = regex.findall(r'[A-Za-zæøå]+|\\d+', str(stripped_city), re.UNICODE)\n",
    "\n",
    "            if len(_city) == 2:\n",
    "                _area = {\n",
    "                _city[0]: _city[1]\n",
    "            }\n",
    "            else:\n",
    "                _area = {\n",
    "                _city[0] + _city[1] : _city[2] \n",
    "            }\n",
    "            areas.append(_area)\n",
    "\n",
    "\n",
    "    print(areas)\n",
    "\n",
    "pythonData = get_region_info('https://www.jobindex.dk/jobsoegning?q=Python')\n",
    "jsData = get_region_info('https://www.jobindex.dk/jobsoegning?q=JavaScript')\n",
    "javaData = get_region_info('https://www.jobindex.dk/jobsoegning?q=Java')"
   ]
  }
 ],
 "metadata": {
  "kernelspec": {
   "display_name": "Python 3",
   "language": "python",
   "name": "python3"
  },
  "language_info": {
   "codemirror_mode": {
    "name": "ipython",
    "version": 3
   },
   "file_extension": ".py",
   "mimetype": "text/x-python",
   "name": "python",
   "nbconvert_exporter": "python",
   "pygments_lexer": "ipython3",
   "version": "3.7.6"
  }
 },
 "nbformat": 4,
 "nbformat_minor": 4
}
